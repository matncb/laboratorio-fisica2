{
 "cells": [
  {
   "cell_type": "code",
   "execution_count": 44,
   "metadata": {},
   "outputs": [],
   "source": [
    "import numpy as np"
   ]
  },
  {
   "cell_type": "code",
   "execution_count": 45,
   "metadata": {},
   "outputs": [],
   "source": [
    "#em gramas\n",
    "\n",
    "m_s = 21.78\n",
    "m_areo = 101.90\n",
    "\n",
    "rho = 1 #em g/cm^3\n",
    "\n",
    "m_err = 0.01\n",
    "\n",
    "V_areo = 149.67/rho"
   ]
  },
  {
   "cell_type": "code",
   "execution_count": 46,
   "metadata": {},
   "outputs": [
    {
     "name": "stdout",
     "output_type": "stream",
     "text": [
      "O volume do sólido medido com a balança é = 2.68 +- 0.01\n",
      "A densidade do sólido medido com a balança é = 8.126865671641792 +- 0.034055468924036526\n"
     ]
    }
   ],
   "source": [
    "V_s= 2.68/rho\n",
    "rho_s = m_s/V_s\n",
    "rho_s_err = (1/V_s)*m_err + m_s/(V_s**2) *m_err\n",
    "\n",
    "print(\"O volume do sólido medido com a balança é = \" + str(V_s) + \" +- \" + str(m_err)) # em cm^3\n",
    "print(\"A densidade do sólido medido com a balança é = \" + str(rho_s) + \" +- \" + str(rho_s_err)) # em cm^3"
   ]
  },
  {
   "cell_type": "code",
   "execution_count": 47,
   "metadata": {},
   "outputs": [
    {
     "name": "stdout",
     "output_type": "stream",
     "text": [
      "O volume do sólido medido com o areômetro é = 2.5 +- 0.03\n",
      "A densidade do sólido medido com o areômetro é = 8.712 +- 0.10854400000000002\n"
     ]
    }
   ],
   "source": [
    "maa = 18.47\n",
    "ma = 37.75 - m_s\n",
    "\n",
    "V_s_areo = (maa - ma)/rho \n",
    "V_s_areo_err = 3*m_err\n",
    "\n",
    "rho_s_areo = m_s/V_s_areo\n",
    "rho_s_areo_err = (1/V_s_areo)*m_err + m_s/(V_s_areo**2) *V_s_areo_err\n",
    "\n",
    "\n",
    "print(\"O volume do sólido medido com o areômetro é = \" + str(V_s_areo) + \" +- \" + str(V_s_areo_err)) # em cm^3\n",
    "print(\"A densidade do sólido medido com o areômetro é = \" + str(rho_s_areo) + \" +- \" + str(rho_s_areo_err)) # em cm^3\n"
   ]
  },
  {
   "cell_type": "code",
   "execution_count": 48,
   "metadata": {},
   "outputs": [
    {
     "name": "stdout",
     "output_type": "stream",
     "text": [
      "A densidade do líquido é = 0.873588561501971 +- 0.00014207332387906925\n"
     ]
    }
   ],
   "source": [
    "maa = 18.83\n",
    "ma = 37.75\n",
    "\n",
    "rho_l = rho - (ma -maa)/V_areo\n",
    "rho_l_err = (ma - maa)/(V_areo**2)*m_err + 2*m_err/(V_areo)\n",
    "\n",
    "print(\"A densidade do líquido é = \" + str(rho_l) + \" +- \" + str(rho_l_err)) # em cm^3"
   ]
  },
  {
   "cell_type": "code",
   "execution_count": null,
   "metadata": {},
   "outputs": [],
   "source": []
  }
 ],
 "metadata": {
  "kernelspec": {
   "display_name": "Python 3",
   "language": "python",
   "name": "python3"
  },
  "language_info": {
   "codemirror_mode": {
    "name": "ipython",
    "version": 3
   },
   "file_extension": ".py",
   "mimetype": "text/x-python",
   "name": "python",
   "nbconvert_exporter": "python",
   "pygments_lexer": "ipython3",
   "version": "3.10.12"
  }
 },
 "nbformat": 4,
 "nbformat_minor": 2
}
