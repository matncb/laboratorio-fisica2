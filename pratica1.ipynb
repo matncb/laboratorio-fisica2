{
 "cells": [
  {
   "cell_type": "code",
   "execution_count": 37,
   "metadata": {},
   "outputs": [],
   "source": [
    "import numpy as np"
   ]
  },
  {
   "cell_type": "code",
   "execution_count": 38,
   "metadata": {},
   "outputs": [],
   "source": [
    "#tempos medidos\n",
    "\n",
    "t = np.array([2.88, 2.88, 2.90, 2.78, 2.81, 2.81, 2.90, 2.84, 2.83, 2.85, 2.86, 2.78, 2.78, 2.86])\n",
    "\n",
    "g = 9.79\n",
    "h = 50.7 *1e-2\n",
    "h_err = 0.2*1e-2"
   ]
  },
  {
   "cell_type": "code",
   "execution_count": 39,
   "metadata": {},
   "outputs": [],
   "source": [
    "#valores das massas\n",
    "\n",
    "m_aro = 923.4 *1e-3\n",
    "m_disco = 470.6 *1e-3\n",
    "m_cilindro = 121.2 *1e-3\n",
    "\n",
    "M = m_aro + m_disco + m_cilindro\n",
    "\n",
    "massa_err = 0.1 *1e-3\n",
    "M_err = 3*massa_err"
   ]
  },
  {
   "cell_type": "code",
   "execution_count": 40,
   "metadata": {},
   "outputs": [],
   "source": [
    "#valores dos raios\n",
    "\n",
    "R_aro = 154.00/2 *1e-3\n",
    "r_aro = 124.30/2 *1e-3\n",
    "\n",
    "R_disco = 124.90/2 *1e-3\n",
    "r_disco = 11.70/2 *1e-3\n",
    "\n",
    "R_cilindro = 12.10/2 *1e-3\n",
    "\n",
    "raio_err = 0.05/2 *1e-3"
   ]
  },
  {
   "cell_type": "code",
   "execution_count": 41,
   "metadata": {},
   "outputs": [
    {
     "name": "stdout",
     "output_type": "stream",
     "text": [
      "O valor do momento de inércia é I = 0.004264248225362804 +- 0.0001305613331542213\n"
     ]
    }
   ],
   "source": [
    "# I usando t\n",
    "\n",
    "I_valores = M*R_cilindro**2 *(g*t**2/(2*h) -1)\n",
    "\n",
    "print(\"O valor do momento de inércia é I = \" + str(I_valores.mean()) + \" +- \" + str(I_valores.std(ddof=1)))\n"
   ]
  },
  {
   "cell_type": "code",
   "execution_count": 43,
   "metadata": {},
   "outputs": [
    {
     "name": "stdout",
     "output_type": "stream",
     "text": [
      "O valor do momento de inércia é I = 0.005448733362250001 +- 4.722281249999999e-06\n"
     ]
    }
   ],
   "source": [
    "# I na marra\n",
    "\n",
    "I = (1/2) * m_aro * (R_aro**2 + r_aro**2) + (1/2)*m_disco*(R_disco**2 + r_disco**2) + (1/2)*m_cilindro*R_cilindro**2\n",
    "I_err = (1/2)*( (massa_err)*(R_aro**2 + r_aro**2) + m_aro*(2*R_aro + 2*r_aro)*raio_err + (massa_err)*(R_disco**2 + r_disco**2) + m_disco*(2*R_disco + 2*r_disco)*raio_err + (massa_err)*(R_cilindro**2) + m_cilindro*(2*R_cilindro)*raio_err )\n",
    "\n",
    "print(\"O valor do momento de inércia é I = \" + str(I) + \" +- \" + str(I_err))"
   ]
  },
  {
   "cell_type": "code",
   "execution_count": null,
   "metadata": {},
   "outputs": [],
   "source": []
  }
 ],
 "metadata": {
  "kernelspec": {
   "display_name": "Python 3",
   "language": "python",
   "name": "python3"
  },
  "language_info": {
   "codemirror_mode": {
    "name": "ipython",
    "version": 3
   },
   "file_extension": ".py",
   "mimetype": "text/x-python",
   "name": "python",
   "nbconvert_exporter": "python",
   "pygments_lexer": "ipython3",
   "version": "3.10.12"
  }
 },
 "nbformat": 4,
 "nbformat_minor": 2
}
