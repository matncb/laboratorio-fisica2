{
 "cells": [
  {
   "cell_type": "code",
   "execution_count": 81,
   "metadata": {},
   "outputs": [],
   "source": [
    "import numpy as np\n",
    "\n",
    "import matplotlib.pyplot as plt\n",
    "import scienceplots\n",
    "plt.style.use(['science', 'notebook', 'grid'])\n",
    "\n",
    "import pandas as pd\n",
    "\n",
    "from scipy.optimize import  curve_fit\n",
    "from sklearn.metrics import r2_score"
   ]
  },
  {
   "cell_type": "code",
   "execution_count": 82,
   "metadata": {},
   "outputs": [],
   "source": [
    "n = np.array([1,2,3,4,5,6,7])\n",
    "f_n = np.array((0.023, 0.043, 0.065, 0.086, 0.106, 0.126, 0.148)) *1e3\n",
    "f_err = 0.001*1e3\n",
    "\n",
    "m = 199.07 *1e-3\n",
    "m_err = 0.01 *1e-3\n",
    "\n",
    "g = 9.79\n",
    "\n",
    "L = 2.297\n",
    "L_err = 0.001"
   ]
  },
  {
   "cell_type": "code",
   "execution_count": 83,
   "metadata": {},
   "outputs": [
    {
     "name": "stdout",
     "output_type": "stream",
     "text": [
      "lambda_n\n"
     ]
    },
    {
     "data": {
      "text/plain": [
       "array([4.594     , 2.297     , 1.53133333, 1.1485    , 0.9188    ,\n",
       "       0.76566667, 0.65628571])"
      ]
     },
     "execution_count": 83,
     "metadata": {},
     "output_type": "execute_result"
    }
   ],
   "source": [
    "lambda_n = 2*L/n\n",
    "print(\"lambda_n\")\n",
    "lambda_n"
   ]
  },
  {
   "cell_type": "code",
   "execution_count": 84,
   "metadata": {},
   "outputs": [
    {
     "name": "stdout",
     "output_type": "stream",
     "text": [
      "lambda_n_err\n"
     ]
    },
    {
     "data": {
      "text/plain": [
       "array([0.002     , 0.001     , 0.00066667, 0.0005    , 0.0004    ,\n",
       "       0.00033333, 0.00028571])"
      ]
     },
     "execution_count": 84,
     "metadata": {},
     "output_type": "execute_result"
    }
   ],
   "source": [
    "lambda_n_err = 2*L_err/n\n",
    "print(\"lambda_n_err\")\n",
    "lambda_n_err"
   ]
  },
  {
   "cell_type": "code",
   "execution_count": 85,
   "metadata": {},
   "outputs": [
    {
     "name": "stdout",
     "output_type": "stream",
     "text": [
      "v\n"
     ]
    },
    {
     "data": {
      "text/plain": [
       "array([105.662     ,  98.771     ,  99.53666667,  98.771     ,\n",
       "        97.3928    ,  96.474     ,  97.13028571])"
      ]
     },
     "execution_count": 85,
     "metadata": {},
     "output_type": "execute_result"
    }
   ],
   "source": [
    "v = lambda_n * f_n\n",
    "print(\"v\")\n",
    "v"
   ]
  },
  {
   "cell_type": "code",
   "execution_count": 86,
   "metadata": {},
   "outputs": [
    {
     "name": "stdout",
     "output_type": "stream",
     "text": [
      "v_err\n"
     ]
    },
    {
     "data": {
      "text/plain": [
       "array([4.64      , 2.34      , 1.57466667, 1.1915    , 0.9612    ,\n",
       "       0.80766667, 0.69857143])"
      ]
     },
     "execution_count": 86,
     "metadata": {},
     "output_type": "execute_result"
    }
   ],
   "source": [
    "v_err = 2/n * (f_n*L_err + L*f_err)\n",
    "print(\"v_err\")\n",
    "v_err"
   ]
  },
  {
   "cell_type": "code",
   "execution_count": 87,
   "metadata": {},
   "outputs": [
    {
     "name": "stdout",
     "output_type": "stream",
     "text": [
      "O valor de v é v = 99.10539319727891 +- 3.0864484006455957\n"
     ]
    }
   ],
   "source": [
    "print(\"O valor de v é v = {} +- {}\".format(v.mean(), v.std(ddof=1)) )"
   ]
  },
  {
   "cell_type": "code",
   "execution_count": 88,
   "metadata": {},
   "outputs": [
    {
     "name": "stdout",
     "output_type": "stream",
     "text": [
      "mu = 0.0001984238767124645 +- 1.2369033728339506e-05\n"
     ]
    }
   ],
   "source": [
    "mu = m*g/(v.mean()**2)\n",
    "mu_err = g*m_err/(v.mean()**2) + 2*m*g/(v.mean()**3) *v.std(ddof=1)\n",
    "\n",
    "print(\"mu = {} +- {}\".format(mu, mu_err))"
   ]
  },
  {
   "cell_type": "code",
   "execution_count": null,
   "metadata": {},
   "outputs": [],
   "source": []
  }
 ],
 "metadata": {
  "kernelspec": {
   "display_name": "Python 3",
   "language": "python",
   "name": "python3"
  },
  "language_info": {
   "codemirror_mode": {
    "name": "ipython",
    "version": 3
   },
   "file_extension": ".py",
   "mimetype": "text/x-python",
   "name": "python",
   "nbconvert_exporter": "python",
   "pygments_lexer": "ipython3",
   "version": "3.10.12"
  }
 },
 "nbformat": 4,
 "nbformat_minor": 2
}
