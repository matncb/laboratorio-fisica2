{
 "cells": [
  {
   "cell_type": "code",
   "execution_count": 28,
   "metadata": {},
   "outputs": [],
   "source": [
    "import numpy as np\n",
    "\n",
    "import matplotlib.pyplot as plt\n",
    "import scienceplots\n",
    "plt.style.use(['science', 'notebook', 'grid'])\n",
    "\n",
    "import pandas as pd\n",
    "\n",
    "from scipy.optimize import  curve_fit\n",
    "from sklearn.metrics import r2_score"
   ]
  },
  {
   "cell_type": "code",
   "execution_count": 29,
   "metadata": {},
   "outputs": [
    {
     "data": {
      "text/plain": [
       "array([  8.7,   8.6,   8.7,   8.5,   8.6,   8.6,   8.7,   8.7,   8.5,\n",
       "       -86.3])"
      ]
     },
     "execution_count": 29,
     "metadata": {},
     "output_type": "execute_result"
    }
   ],
   "source": [
    "n = np.array([1,2,3,4,5,6,7,8,9,10])\n",
    "L_n = np.array([8.7, 17.4, 26.0, 34.7, 43.2, 51.8, 60.4, 69.1, 77.8, 86.3])\n",
    "L_n_1 = np.array([17.4, 26.0, 34.7, 43.2, 51.8, 60.4, 69.1, 77.8, 86.3, 0])\n",
    "delta_L = L_n_1 - L_n\n",
    "\n",
    "delta_L"
   ]
  },
  {
   "cell_type": "code",
   "execution_count": 30,
   "metadata": {},
   "outputs": [
    {
     "name": "stdout",
     "output_type": "stream",
     "text": [
      "lambda = 17.311103174603176 +- 0.055851597851943956\n"
     ]
    }
   ],
   "source": [
    "comprimento_onda = 2*L_n/n\n",
    "print(f\"lambda = {comprimento_onda.mean()} +- {comprimento_onda.std(ddof=1)}\")"
   ]
  },
  {
   "cell_type": "code",
   "execution_count": 31,
   "metadata": {},
   "outputs": [
    {
     "data": {
      "text/plain": [
       "1.1230639296069218"
      ]
     },
     "execution_count": 31,
     "metadata": {},
     "output_type": "execute_result"
    }
   ],
   "source": [
    "v = 2*L_n/n * 2.0108 *1e3 *1e-2\n",
    "v.std(ddof=1)"
   ]
  },
  {
   "cell_type": "code",
   "execution_count": 32,
   "metadata": {},
   "outputs": [
    {
     "name": "stdout",
     "output_type": "stream",
     "text": [
      "v = 348.0916626349207 +- 1.1230639296068892\n"
     ]
    }
   ],
   "source": [
    "f = 2.0108 * 1e3\n",
    "v = comprimento_onda.mean()*1e-2 *f\n",
    "v_err = f*comprimento_onda.std(ddof=1)*1e-2\n",
    "\n",
    "print(f\"v = {v} +- {v_err}\")"
   ]
  }
 ],
 "metadata": {
  "kernelspec": {
   "display_name": "Python 3",
   "language": "python",
   "name": "python3"
  },
  "language_info": {
   "codemirror_mode": {
    "name": "ipython",
    "version": 3
   },
   "file_extension": ".py",
   "mimetype": "text/x-python",
   "name": "python",
   "nbconvert_exporter": "python",
   "pygments_lexer": "ipython3",
   "version": "3.10.12"
  }
 },
 "nbformat": 4,
 "nbformat_minor": 2
}
