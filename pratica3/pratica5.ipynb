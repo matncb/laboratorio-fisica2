{
 "cells": [
  {
   "cell_type": "code",
   "execution_count": 173,
   "metadata": {},
   "outputs": [],
   "source": [
    "import numpy as np"
   ]
  },
  {
   "cell_type": "code",
   "execution_count": 174,
   "metadata": {},
   "outputs": [],
   "source": [
    "exp1 = [156.56, 16.0, 265.82, 55.5, 34.4]\n",
    "exp2a = [221.80, 26.4, 436.56, 96.5, 34.3]\n",
    "exp2b = [222.17, 28.9, 285.92, 96.5, 33.5]\n",
    "exp3 = [202.81, 16.0, 219.68, 96.5, 68.7]"
   ]
  },
  {
   "cell_type": "code",
   "execution_count": 175,
   "metadata": {},
   "outputs": [],
   "source": [
    "ca = 1.000\n",
    "mc = 50.62\n",
    "\n",
    "def calc1(exp):\n",
    "    m1, T1, m2, T2, Tf = exp\n",
    "    m1 -= mc\n",
    "    m2 -= (m1 + mc)\n",
    "\n",
    "    C = m2*ca* ((T2-Tf)/(Tf-T1)) - m1*ca\n",
    "    return C\n",
    "\n",
    "def calc2(exp, C):\n",
    "    m1, T1, m2, T2, Tf = exp\n",
    "    m1 -= mc\n",
    "    m2 -= m1 + mc\n",
    "\n",
    "    cm = (m1*ca + C)*(Tf-T1)/(m2*(T2-Tf))\n",
    "    return cm\n",
    "\n",
    "def calc3(exp, C):\n",
    "    m1, T1, m2, T2, Tf = exp\n",
    "    m1 -= mc\n",
    "    m2 -= (m1 + mc)\n",
    "\n",
    "    Lc = (m1*ca + C)*(T1-Tf)/m2 + ca*(T2-Tf)\n",
    "    return Lc\n"
   ]
  },
  {
   "cell_type": "code",
   "execution_count": 176,
   "metadata": {},
   "outputs": [],
   "source": [
    "C = calc1(exp1)\n",
    "cma = calc2(exp2a, C)\n",
    "cmb = calc2(exp2b, C)\n",
    "Lc = calc3(exp3,C)"
   ]
  },
  {
   "cell_type": "code",
   "execution_count": 177,
   "metadata": {},
   "outputs": [
    {
     "name": "stdout",
     "output_type": "stream",
     "text": [
      "Capacidade térmica do calorímetro: 19.352717391304353\n",
      "Calor específico metal A: 0.11268156567738997\n",
      "Calor específico metal B: 0.21864985994397756\n",
      "Calor latende de condensação: -508.08033233679527\n"
     ]
    }
   ],
   "source": [
    "print(f\"Capacidade térmica do calorímetro: {C}\")\n",
    "print(f\"Calor específico metal A: {cma}\")\n",
    "print(f\"Calor específico metal B: {cmb}\")\n",
    "print(f\"Calor latende de condensação: {Lc}\")"
   ]
  },
  {
   "cell_type": "code",
   "execution_count": 178,
   "metadata": {},
   "outputs": [
    {
     "data": {
      "text/plain": [
       "11.03516"
      ]
     },
     "execution_count": 178,
     "metadata": {},
     "output_type": "execute_result"
    }
   ],
   "source": [
    "mc*0.218 #considerando o copo como de alumínio"
   ]
  },
  {
   "cell_type": "code",
   "execution_count": null,
   "metadata": {},
   "outputs": [],
   "source": []
  }
 ],
 "metadata": {
  "kernelspec": {
   "display_name": "Python 3",
   "language": "python",
   "name": "python3"
  },
  "language_info": {
   "codemirror_mode": {
    "name": "ipython",
    "version": 3
   },
   "file_extension": ".py",
   "mimetype": "text/x-python",
   "name": "python",
   "nbconvert_exporter": "python",
   "pygments_lexer": "ipython3",
   "version": "3.10.12"
  }
 },
 "nbformat": 4,
 "nbformat_minor": 2
}
